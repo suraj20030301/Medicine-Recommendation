{
 "cells": [
  {
   "cell_type": "code",
   "execution_count": null,
   "id": "f76b1430-4e51-417e-853a-9db148668aa7",
   "metadata": {},
   "outputs": [
    {
     "ename": "",
     "evalue": "",
     "output_type": "error",
     "traceback": [
      "\u001b[1;31mThe kernel failed to start due to the missing module 'typing_extensions'. Consider installing this module.\n",
      "\u001b[1;31mClick <a href='https://aka.ms/kernelFailuresMissingModule'>here</a> for more info."
     ]
    }
   ],
   "source": [
    "import numpy as np\n",
    "import pandas as pd\n",
    "import matplotlib.pyplot as plt\n",
    "import seaborn as sns\n",
    "%matplotlib inline\n",
    "import difflib\n",
    "import warnings\n",
    "warnings.filterwarnings('ignore')\n",
    "import os"
   ]
  },
  {
   "cell_type": "code",
   "execution_count": null,
   "id": "15e29d17-6fa5-41dc-8048-04d464cae0b3",
   "metadata": {},
   "outputs": [],
   "source": [
    "os.chdir(\"C:\\\\Users\\\\ASUS\\\\Downloads\\\\archive\")"
   ]
  },
  {
   "cell_type": "code",
   "execution_count": null,
   "id": "0a5b9ffd-f2d8-433d-a517-f2924c5eeb89",
   "metadata": {},
   "outputs": [],
   "source": [
    "dataset=pd.read_csv(\"Training.csv\")\n",
    "dataset.head()"
   ]
  },
  {
   "cell_type": "code",
   "execution_count": null,
   "id": "9b5c5028-e5cc-4a6f-9d60-64521c7db14f",
   "metadata": {},
   "outputs": [],
   "source": [
    "columns=dataset.columns.values\n",
    "columns=columns[:-2]\n",
    "columns"
   ]
  },
  {
   "cell_type": "code",
   "execution_count": null,
   "id": "f3e6dd1a-cd5b-451b-8495-785b6d4a9651",
   "metadata": {},
   "outputs": [],
   "source": [
    "symtoms_name=input(\"Enter symtoms\")\n",
    "difflib.get_close_matches(symtoms_name,columns)"
   ]
  },
  {
   "cell_type": "code",
   "execution_count": null,
   "id": "3c0e02c0-8821-4b4c-87e7-32e428356fa3",
   "metadata": {},
   "outputs": [],
   "source": [
    "from sklearn.preprocessing import LabelEncoder\n",
    "le=LabelEncoder()\n",
    "dataset[\"prognosis_coded\"]=le.fit_transform(dataset[\"prognosis\"])\n",
    "dataset.head()"
   ]
  },
  {
   "cell_type": "code",
   "execution_count": null,
   "id": "ed8de99e-3011-40f0-b98c-d9c891b6c055",
   "metadata": {},
   "outputs": [],
   "source": [
    "dataset.shape"
   ]
  },
  {
   "cell_type": "code",
   "execution_count": null,
   "id": "ebcf80a0-cb2f-47c7-a43b-31c575011af7",
   "metadata": {},
   "outputs": [],
   "source": [
    "x=dataset.iloc[:,:-2]\n",
    "y=dataset.iloc[:,-1]"
   ]
  },
  {
   "cell_type": "code",
   "execution_count": null,
   "id": "0d5872a9-a10f-4cbe-826f-d977f7344c38",
   "metadata": {},
   "outputs": [],
   "source": [
    "x.head()"
   ]
  },
  {
   "cell_type": "code",
   "execution_count": null,
   "id": "7dc37ff5-c005-4a1a-8d8b-538584345fc9",
   "metadata": {},
   "outputs": [],
   "source": [
    "y"
   ]
  },
  {
   "cell_type": "code",
   "execution_count": null,
   "id": "330907b6-8e12-4855-b41a-5c7b2b540a7c",
   "metadata": {},
   "outputs": [],
   "source": [
    "from sklearn.model_selection import train_test_split\n",
    "x_train,x_test,y_train,y_test=train_test_split(x,y,test_size=0.33,random_state=41)\n",
    "x_train.shape,x_test.shape,y_train.shape,y_test.shape"
   ]
  },
  {
   "cell_type": "code",
   "execution_count": null,
   "id": "ebc4ee68-53ad-4459-89a4-c4fa5457acf0",
   "metadata": {},
   "outputs": [],
   "source": [
    "from sklearn.linear_model import LogisticRegression"
   ]
  },
  {
   "cell_type": "code",
   "execution_count": null,
   "id": "1cb81a84-d4f6-4dee-a212-4e5c92749276",
   "metadata": {},
   "outputs": [],
   "source": [
    "model=LogisticRegression(multi_class='multinomial')\n",
    "model.fit(x_train,y_train)"
   ]
  },
  {
   "cell_type": "code",
   "execution_count": null,
   "id": "be0a75e7-0437-40f0-854b-a2c1e7828e47",
   "metadata": {},
   "outputs": [],
   "source": [
    "y_pred=model.predict(x_test)"
   ]
  },
  {
   "cell_type": "code",
   "execution_count": null,
   "id": "bd264aca-6d8a-4228-8a22-7659122f2a5a",
   "metadata": {},
   "outputs": [],
   "source": [
    "from sklearn.metrics import accuracy_score,confusion_matrix"
   ]
  },
  {
   "cell_type": "code",
   "execution_count": null,
   "id": "4c4c441d-8a3a-4a6c-8e50-64d590a1eab4",
   "metadata": {},
   "outputs": [],
   "source": [
    "accuracy_score(y_test,y_pred)"
   ]
  },
  {
   "cell_type": "code",
   "execution_count": null,
   "id": "74fd8044-853b-402a-97d3-48981be5566c",
   "metadata": {},
   "outputs": [],
   "source": [
    "confusion_matrix(y_test,y_pred)"
   ]
  },
  {
   "cell_type": "code",
   "execution_count": null,
   "id": "5dbefe33-14ea-41ba-841a-61d77b9e3e3c",
   "metadata": {},
   "outputs": [],
   "source": [
    "import pickle\n",
    "pickle.dump(model,open(\"model.pkl\",\"wb\"))"
   ]
  },
  {
   "cell_type": "code",
   "execution_count": null,
   "id": "e446088b-cd94-44fa-be71-4999952a53cf",
   "metadata": {},
   "outputs": [],
   "source": [
    "pickle.dump(le,open(\"encoder.pkl\",\"wb\"))"
   ]
  },
  {
   "cell_type": "code",
   "execution_count": null,
   "id": "209508a4-0719-4592-b2f8-b128ffc535fe",
   "metadata": {},
   "outputs": [],
   "source": [
    "columns"
   ]
  },
  {
   "cell_type": "code",
   "execution_count": null,
   "id": "339a029a-1095-4811-a710-eabbe9a78706",
   "metadata": {},
   "outputs": [],
   "source": [
    "input_vector=np.zeros(len(columns))\n",
    "input_symtoms=input(\"Enter Symtoms: \")\n",
    "input_symtoms=input_symtoms.split(\",\")\n",
    "input_symtoms\n",
    "for syms in input_symtoms:\n",
    "    syms_name=difflib.get_close_matches(syms,columns)[0]\n",
    "    index=np.where(columns==syms_name)[0][0]\n",
    "    input_vector[index]=1"
   ]
  },
  {
   "cell_type": "code",
   "execution_count": null,
   "id": "248a7fbb-848d-49c7-8e77-d5dc9f7bde4a",
   "metadata": {},
   "outputs": [],
   "source": [
    "input_vector"
   ]
  },
  {
   "cell_type": "code",
   "execution_count": null,
   "id": "10707168-6a44-4174-bab3-58bcb245ce7f",
   "metadata": {},
   "outputs": [],
   "source": [
    "def predict(input):\n",
    "    input_vector=np.zeros(len(columns))\n",
    "    input=input.split(\",\")\n",
    "    for syms in input:\n",
    "        syms_name=difflib.get_close_matches(syms,columns)[0]\n",
    "        index=np.where(columns==syms_name)[0][0]\n",
    "        input_vector[index]=1\n",
    "\n",
    "    input_vector=np.reshape(input_vector,newshape=(1,-1))\n",
    "    return le.inverse_transform(model.predict(input_vector))[0]"
   ]
  },
  {
   "cell_type": "code",
   "execution_count": null,
   "id": "cce12fac-0dd8-457f-88ec-823cdce96202",
   "metadata": {},
   "outputs": [],
   "source": [
    "predict(\"skin peeling, itching, nodalskin_eruptions\")"
   ]
  },
  {
   "cell_type": "code",
   "execution_count": null,
   "id": "75952a3e-d7bf-4f68-b3ba-b01a1bdce40a",
   "metadata": {},
   "outputs": [],
   "source": []
  }
 ],
 "metadata": {
  "kernelspec": {
   "display_name": "Python 3",
   "language": "python",
   "name": "python3"
  },
  "language_info": {
   "codemirror_mode": {
    "name": "ipython",
    "version": 3
   },
   "file_extension": ".py",
   "mimetype": "text/x-python",
   "name": "python",
   "nbconvert_exporter": "python",
   "pygments_lexer": "ipython3",
   "version": "3.11.5"
  }
 },
 "nbformat": 4,
 "nbformat_minor": 5
}
